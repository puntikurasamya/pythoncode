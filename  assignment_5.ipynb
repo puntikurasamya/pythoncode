{
 "cells": [
  {
   "cell_type": "raw",
   "id": "348fe301",
   "metadata": {},
   "source": [
    "1. Define a function which will return Max of three numbers"
   ]
  },
  {
   "cell_type": "code",
   "execution_count": 22,
   "id": "f458b1b2",
   "metadata": {},
   "outputs": [
    {
     "name": "stdout",
     "output_type": "stream",
     "text": [
      "34 is the max of three numbers\n"
     ]
    }
   ],
   "source": [
    "x=lambda a,b,c:a if a>b & a>c else b if b>a & b>c else c \n",
    "print(x(10,23,34),'is the max of three numbers')"
   ]
  },
  {
   "cell_type": "raw",
   "id": "60123503",
   "metadata": {},
   "source": [
    "2. Define a Python Function to reverse a string."
   ]
  },
  {
   "cell_type": "code",
   "execution_count": 24,
   "id": "068e5a07",
   "metadata": {},
   "outputs": [
    {
     "data": {
      "text/plain": [
       "'scitamonni'"
      ]
     },
     "execution_count": 24,
     "metadata": {},
     "output_type": "execute_result"
    }
   ],
   "source": [
    "y=lambda a:a[::-1]\n",
    "y('innomatics')"
   ]
  },
  {
   "cell_type": "raw",
   "id": "709d7ee9",
   "metadata": {},
   "source": [
    "3. Write a Python program to define a function that accepts 2 values \n",
    "and return its sum, subtraction and multiplication. "
   ]
  },
  {
   "cell_type": "code",
   "execution_count": 25,
   "id": "159e0650",
   "metadata": {},
   "outputs": [
    {
     "data": {
      "text/plain": [
       "(30, -10, 200)"
      ]
     },
     "execution_count": 25,
     "metadata": {},
     "output_type": "execute_result"
    }
   ],
   "source": [
    "def func(x,y):\n",
    "    return x+y,x-y,x*y\n",
    "func(10,20)"
   ]
  },
  {
   "cell_type": "code",
   "execution_count": 27,
   "id": "91403207",
   "metadata": {},
   "outputs": [
    {
     "data": {
      "text/plain": [
       "[30, -10, 200]"
      ]
     },
     "execution_count": 27,
     "metadata": {},
     "output_type": "execute_result"
    }
   ],
   "source": [
    "x=lambda a,b:[a+b,a-b,a*b]\n",
    "x(10,20)"
   ]
  },
  {
   "cell_type": "raw",
   "id": "071199a5",
   "metadata": {},
   "source": [
    "4. Define a function that accepts roll number and returns whether the \n",
    "student is present or absent."
   ]
  },
  {
   "cell_type": "code",
   "execution_count": 6,
   "id": "53d0e060",
   "metadata": {},
   "outputs": [
    {
     "name": "stdout",
     "output_type": "stream",
     "text": [
      "samya present\n",
      "ramya present\n",
      "sony present\n",
      "shiva obsent\n",
      "arjun obsent\n",
      "muthyam obsent\n"
     ]
    }
   ],
   "source": [
    "d={1:'samya',2:'ramya',3:'sony',4:'shiva',5:'arjun',6:'muthyam'}\n",
    "def attendance(*p):\n",
    "    for i in d:\n",
    "        if i in p:\n",
    "            print( f'{d[i]} present')\n",
    "        else:\n",
    "            print( f'{d[i]} obsent')\n",
    "        \n",
    "d={1:'samya',2:'ramya',3:'sony',4:'shiva',5:'arjun',6:'muthyam'}        \n",
    "attendance(1,2,3)\n",
    "    \n",
    "    "
   ]
  },
  {
   "cell_type": "raw",
   "id": "29bd26af",
   "metadata": {},
   "source": [
    "5. Define a function in python that accepts n values and returns \n",
    "the maximum of n numbers"
   ]
  },
  {
   "cell_type": "code",
   "execution_count": 32,
   "id": "156d2805",
   "metadata": {},
   "outputs": [
    {
     "name": "stdout",
     "output_type": "stream",
     "text": [
      "range of numbers: 5\n",
      "enter the numbers: 23\n",
      "enter the numbers: 32\n",
      "enter the numbers: 21\n",
      "enter the numbers: 23\n",
      "enter the numbers: 45\n",
      "the max value :  45\n"
     ]
    }
   ],
   "source": [
    "def f(n):\n",
    "    l=[]\n",
    "    for i in range(n):\n",
    "        num=int(input('enter the numbers: '))\n",
    "        l.append(num)\n",
    "    return max(l)\n",
    "n=int(input('range of numbers: '))\n",
    "print('the max value : ',f(n))"
   ]
  },
  {
   "cell_type": "raw",
   "id": "b370a54b",
   "metadata": {},
   "source": [
    "6. Define a function which counts vowels and consonant in a word.\n"
   ]
  },
  {
   "cell_type": "code",
   "execution_count": 6,
   "id": "163d1ff2",
   "metadata": {},
   "outputs": [
    {
     "name": "stdout",
     "output_type": "stream",
     "text": [
      "enter wordInnomatics\n",
      "4\n",
      "6\n"
     ]
    }
   ],
   "source": [
    "def func(a):\n",
    "    v=[]\n",
    "    c=[]\n",
    "    vowel=['a','e','i','o','u']\n",
    "    for i in range (len(a)):\n",
    "        if a[i].lower() in vowel:\n",
    "            v.append(a[i])\n",
    "        else:\n",
    "            c.append(a[i])\n",
    "    print(len(v))        \n",
    "    print(len(c))\n",
    "a=input('enter word')\n",
    "func(a)\n",
    "       "
   ]
  },
  {
   "cell_type": "raw",
   "id": "6867aa49",
   "metadata": {},
   "source": [
    "7. Define a function that returns Factorial of a number"
   ]
  },
  {
   "cell_type": "code",
   "execution_count": 12,
   "id": "72b5f244",
   "metadata": {},
   "outputs": [
    {
     "name": "stdout",
     "output_type": "stream",
     "text": [
      "enter any number:4\n",
      "24\n"
     ]
    }
   ],
   "source": [
    "def f(n):\n",
    "    if n<=1:\n",
    "        return 1\n",
    "    else:\n",
    "        return n*f(n-1)\n",
    "n=int(input('enter any number:'))\n",
    "print(f(n))"
   ]
  },
  {
   "cell_type": "raw",
   "id": "6c4e8c73",
   "metadata": {},
   "source": [
    "8. Define a function that accepts radius and returns the area of a circle.\n"
   ]
  },
  {
   "cell_type": "code",
   "execution_count": 18,
   "id": "677033c2",
   "metadata": {},
   "outputs": [
    {
     "name": "stdout",
     "output_type": "stream",
     "text": [
      "enter radies:2\n"
     ]
    },
    {
     "data": {
      "text/plain": [
       "12.56"
      ]
     },
     "execution_count": 18,
     "metadata": {},
     "output_type": "execute_result"
    }
   ],
   "source": [
    "r=int(input('enter radies:'))\n",
    "a=lambda r:3.14*(r**2)\n",
    "a(r)"
   ]
  },
  {
   "cell_type": "raw",
   "id": "757d1640",
   "metadata": {},
   "source": [
    "9. Define a function that takes a number as a parameter and check \n",
    "the number is prime or not."
   ]
  },
  {
   "cell_type": "code",
   "execution_count": 39,
   "id": "34cd4e3d",
   "metadata": {},
   "outputs": [
    {
     "name": "stdout",
     "output_type": "stream",
     "text": [
      "enter any number23\n"
     ]
    },
    {
     "data": {
      "text/plain": [
       "'prime'"
      ]
     },
     "execution_count": 39,
     "metadata": {},
     "output_type": "execute_result"
    }
   ],
   "source": [
    "def func(n):\n",
    "    if n>1:\n",
    "        for i in range(2,(n//2)+1):\n",
    "            if n%i==0:\n",
    "                return 'not a prime'\n",
    "        else:\n",
    "            return 'prime'\n",
    "    else:\n",
    "        return 'not prime'\n",
    "n=int(input('enter any number'))\n",
    "func(n)\n",
    "    \n",
    "    "
   ]
  },
  {
   "cell_type": "raw",
   "id": "c2aa0622",
   "metadata": {},
   "source": [
    "10. Mary wants to run a 25-mile marathon. When she attempts to \n",
    "sign up for the marathon, she notices the sign-up sheet doesn't \n",
    "directly state the marathon's length. Instead, the marathon's length \n",
    "is listed in small, different portions. Help Mary find out how long \n",
    "the marathon actually.\n"
   ]
  },
  {
   "cell_type": "code",
   "execution_count": 6,
   "id": "258be2dc",
   "metadata": {},
   "outputs": [
    {
     "data": {
      "text/plain": [
       "False"
      ]
     },
     "execution_count": 6,
     "metadata": {},
     "output_type": "execute_result"
    }
   ],
   "source": [
    "def distance(l):\n",
    "    new_list=[]\n",
    "    if l==[]:\n",
    "        return False\n",
    "    for i in l:\n",
    "        if i>0:\n",
    "            new_list.append(i)\n",
    "        else:\n",
    "            i=i*(-1)\n",
    "            new_list.append(i)\n",
    "    if sum(new_list)==25:\n",
    "        return True\n",
    "    else:\n",
    "        return False\n",
    "distance([1,2,3,4]) \n",
    "        \n",
    "        "
   ]
  },
  {
   "cell_type": "code",
   "execution_count": 7,
   "id": "39e047bf",
   "metadata": {},
   "outputs": [
    {
     "data": {
      "text/plain": [
       "True"
      ]
     },
     "execution_count": 7,
     "metadata": {},
     "output_type": "execute_result"
    }
   ],
   "source": [
    "distance([2,-5,13,5])"
   ]
  },
  {
   "cell_type": "raw",
   "id": "09abc0bb",
   "metadata": {},
   "source": [
    "11. Create a function that takes a number and returns True if the \n",
    "number is automorphic, False if it isn't."
   ]
  },
  {
   "cell_type": "code",
   "execution_count": 32,
   "id": "2a755d35",
   "metadata": {},
   "outputs": [],
   "source": [
    "def automorphic(n):\n",
    "    a=n**2\n",
    "    if int(str(a)[-1])==n:\n",
    "        return 'automorphic'\n",
    "    else:\n",
    "        return 'not automorphic'\n",
    "    "
   ]
  },
  {
   "cell_type": "code",
   "execution_count": 33,
   "id": "6bfcdf59",
   "metadata": {},
   "outputs": [
    {
     "data": {
      "text/plain": [
       "'not automorphic'"
      ]
     },
     "execution_count": 33,
     "metadata": {},
     "output_type": "execute_result"
    }
   ],
   "source": [
    "automorphic(2)"
   ]
  },
  {
   "cell_type": "code",
   "execution_count": 34,
   "id": "072467ad",
   "metadata": {},
   "outputs": [
    {
     "data": {
      "text/plain": [
       "'automorphic'"
      ]
     },
     "execution_count": 34,
     "metadata": {},
     "output_type": "execute_result"
    }
   ],
   "source": [
    "automorphic(5)"
   ]
  },
  {
   "cell_type": "code",
   "execution_count": 36,
   "id": "1fe5483e",
   "metadata": {},
   "outputs": [
    {
     "data": {
      "text/plain": [
       "True"
      ]
     },
     "execution_count": 36,
     "metadata": {},
     "output_type": "execute_result"
    }
   ],
   "source": [
    "a=lambda n:True if int(str(n**2)[-1])==n else False\n",
    "a(5)"
   ]
  },
  {
   "cell_type": "code",
   "execution_count": 37,
   "id": "74e0ed28",
   "metadata": {},
   "outputs": [
    {
     "data": {
      "text/plain": [
       "True"
      ]
     },
     "execution_count": 37,
     "metadata": {},
     "output_type": "execute_result"
    }
   ],
   "source": [
    "a(6)"
   ]
  },
  {
   "cell_type": "code",
   "execution_count": 38,
   "id": "7cf7f9f7",
   "metadata": {},
   "outputs": [
    {
     "data": {
      "text/plain": [
       "False"
      ]
     },
     "execution_count": 38,
     "metadata": {},
     "output_type": "execute_result"
    }
   ],
   "source": [
    "a(2)"
   ]
  },
  {
   "cell_type": "raw",
   "id": "872a45a0",
   "metadata": {},
   "source": [
    "12) Create a function, that will take given a, b, c, and do the following: \n",
    " Add a to itself b times and Check if the result is divisible by c.\n",
    " and return true if it is divisible by c or false\n"
   ]
  },
  {
   "cell_type": "code",
   "execution_count": 39,
   "id": "a44d8a53",
   "metadata": {},
   "outputs": [],
   "source": [
    "def num(a,b,c):\n",
    "    d=a*b\n",
    "    if d%c==0:\n",
    "        return True\n",
    "    else:\n",
    "        return False"
   ]
  },
  {
   "cell_type": "code",
   "execution_count": 40,
   "id": "fce96cf7",
   "metadata": {},
   "outputs": [
    {
     "data": {
      "text/plain": [
       "False"
      ]
     },
     "execution_count": 40,
     "metadata": {},
     "output_type": "execute_result"
    }
   ],
   "source": [
    "num(2,3,4)"
   ]
  },
  {
   "cell_type": "code",
   "execution_count": 43,
   "id": "92fa974c",
   "metadata": {},
   "outputs": [
    {
     "data": {
      "text/plain": [
       "True"
      ]
     },
     "execution_count": 43,
     "metadata": {},
     "output_type": "execute_result"
    }
   ],
   "source": [
    "num(1,3,3)"
   ]
  },
  {
   "cell_type": "code",
   "execution_count": 44,
   "id": "484b864d",
   "metadata": {},
   "outputs": [
    {
     "data": {
      "text/plain": [
       "True"
      ]
     },
     "execution_count": 44,
     "metadata": {},
     "output_type": "execute_result"
    }
   ],
   "source": [
    "x=lambda a,b,c:True if (a*b)%c==0 else False\n",
    "x(2,3,2)"
   ]
  },
  {
   "cell_type": "code",
   "execution_count": 45,
   "id": "546d4807",
   "metadata": {},
   "outputs": [
    {
     "data": {
      "text/plain": [
       "False"
      ]
     },
     "execution_count": 45,
     "metadata": {},
     "output_type": "execute_result"
    }
   ],
   "source": [
    "x(1,2,3)"
   ]
  },
  {
   "cell_type": "raw",
   "id": "6ed98641",
   "metadata": {},
   "source": [
    "13) Create a function that changes specific words into emoticons. \n",
    "Given a sentence as a string, replace the words smile, grin, sad and mad \n",
    "with their corresponding emoticons.\n"
   ]
  },
  {
   "cell_type": "code",
   "execution_count": 6,
   "id": "a0684a8c",
   "metadata": {},
   "outputs": [
    {
     "data": {
      "text/plain": [
       "'iam :('"
      ]
     },
     "execution_count": 6,
     "metadata": {},
     "output_type": "execute_result"
    }
   ],
   "source": [
    "def emoticons(s):\n",
    "    l=s.split()\n",
    "    d={\"smile\":\":D\",\"grin\":\":)\",\"sad\":\":(\",\"mad\":\":P\"}\n",
    "    for i in l:\n",
    "        if i in d:\n",
    "            new_word=s.replace(i,d[i])\n",
    "            return new_word\n",
    "emoticons('iam sad')\n",
    "            \n"
   ]
  },
  {
   "cell_type": "code",
   "execution_count": 8,
   "id": "9962a4e2",
   "metadata": {},
   "outputs": [
    {
     "data": {
      "text/plain": [
       "'iam :P'"
      ]
     },
     "execution_count": 8,
     "metadata": {},
     "output_type": "execute_result"
    }
   ],
   "source": [
    "emoticons('iam mad')"
   ]
  },
  {
   "cell_type": "raw",
   "id": "419b8546",
   "metadata": {},
   "source": [
    "14) Write a Python program to square and cube every number in a given \n",
    "list of integers using Lambda\n"
   ]
  },
  {
   "cell_type": "code",
   "execution_count": 18,
   "id": "932b3cbd",
   "metadata": {},
   "outputs": [
    {
     "name": "stdout",
     "output_type": "stream",
     "text": [
      "squre: [1, 4, 9]\n",
      "cube: [1, 8, 27]\n"
     ]
    }
   ],
   "source": [
    "li=[1,2,3]\n",
    "a=map(lambda x:x**2,li)\n",
    "b=map(lambda x:x**3,li)\n",
    "print('squre:',list(a))\n",
    "print('cube:',list(b))"
   ]
  },
  {
   "cell_type": "raw",
   "id": "2c63b6bc",
   "metadata": {},
   "source": [
    "15)Write a Python program to check whether a given string is number \n",
    "or not using Lambda"
   ]
  },
  {
   "cell_type": "code",
   "execution_count": 20,
   "id": "08bfa37a",
   "metadata": {},
   "outputs": [
    {
     "data": {
      "text/plain": [
       "True"
      ]
     },
     "execution_count": 20,
     "metadata": {},
     "output_type": "execute_result"
    }
   ],
   "source": [
    "x=lambda a:a.isdigit()\n",
    "x('123')"
   ]
  },
  {
   "cell_type": "code",
   "execution_count": null,
   "id": "71b790aa",
   "metadata": {},
   "outputs": [],
   "source": []
  },
  {
   "cell_type": "code",
   "execution_count": null,
   "id": "a585e01f",
   "metadata": {},
   "outputs": [],
   "source": []
  },
  {
   "cell_type": "code",
   "execution_count": null,
   "id": "f83f978f",
   "metadata": {},
   "outputs": [],
   "source": []
  },
  {
   "cell_type": "code",
   "execution_count": null,
   "id": "00254a40",
   "metadata": {},
   "outputs": [],
   "source": []
  }
 ],
 "metadata": {
  "kernelspec": {
   "display_name": "Python 3 (ipykernel)",
   "language": "python",
   "name": "python3"
  },
  "language_info": {
   "codemirror_mode": {
    "name": "ipython",
    "version": 3
   },
   "file_extension": ".py",
   "mimetype": "text/x-python",
   "name": "python",
   "nbconvert_exporter": "python",
   "pygments_lexer": "ipython3",
   "version": "3.9.12"
  }
 },
 "nbformat": 4,
 "nbformat_minor": 5
}
