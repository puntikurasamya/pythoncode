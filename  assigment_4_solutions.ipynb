{
 "cells": [
  {
   "cell_type": "code",
   "execution_count": null,
   "id": "e88f31b9",
   "metadata": {},
   "outputs": [],
   "source": [
    "1. Given a list of numbers, write a python program that returns a new list which Has all \n",
    "duplicate elements removed. And is sorted in an increasing order.\n",
    " Ex:\n",
    "Input:\n",
    "[2,1,3,4,2,3,3,2,7,9,8,7]"
   ]
  },
  {
   "cell_type": "code",
   "execution_count": 3,
   "id": "d4a45b23",
   "metadata": {},
   "outputs": [
    {
     "data": {
      "text/plain": [
       "[1, 2, 3, 4, 7, 8, 9]"
      ]
     },
     "execution_count": 3,
     "metadata": {},
     "output_type": "execute_result"
    }
   ],
   "source": [
    "l=[2,1,3,4,2,3,3,2,7,9,8,7]\n",
    "list(set(l))"
   ]
  },
  {
   "cell_type": "raw",
   "id": "9f1ab17d",
   "metadata": {},
   "source": [
    "2.Write a Python program where you will iterate over both keys and values in \n",
    "dictionaries\n"
   ]
  },
  {
   "cell_type": "code",
   "execution_count": 6,
   "id": "372db4fb",
   "metadata": {},
   "outputs": [
    {
     "name": "stdout",
     "output_type": "stream",
     "text": [
      "maths 70\n",
      "stats 54\n",
      "python 60\n"
     ]
    }
   ],
   "source": [
    "a={'maths':70,'stats':54,'python':60}\n",
    "for y,z in a.items():\n",
    "    print(y,z)"
   ]
  },
  {
   "cell_type": "raw",
   "id": "df914f09",
   "metadata": {},
   "source": [
    "3.Write a Python program that takes a dictionary of student names and returns a list of \n",
    "student names in alphabetical order\n",
    "Ex:\n",
    "Input: \n",
    "{“Student 1”: \"Tarun\", \"Student 2”: \"Manoj\", \"Student 3”: \"Gephi”}\n",
    "Output:\n",
    " [“Gephi”,” \n",
    "Manoj”,” Tarun”]"
   ]
  },
  {
   "cell_type": "code",
   "execution_count": 49,
   "id": "b5cf7cdf",
   "metadata": {},
   "outputs": [
    {
     "name": "stdout",
     "output_type": "stream",
     "text": [
      "['Gephi', 'Manoj', 'Tarun']\n"
     ]
    }
   ],
   "source": [
    "s={\"Student 1\": \"Tarun\", \"Student 2\": \"Manoj\", \"Student 3\": \"Gephi\"}\n",
    "c=[]\n",
    "a=s.values()\n",
    "b=sorted(a)\n",
    "print(b)\n"
   ]
  },
  {
   "cell_type": "raw",
   "id": "e660d6f8",
   "metadata": {},
   "source": [
    "4. Write a Python which returns a new list of Booleans, from a given number. Iterating \n",
    "through the number one digit at a time, append True if the digit is 1 and False if it is 0.\n",
    "Ex:\n",
    "Input: “01001”\n",
    "Output: [“False”, “True”, “False”,” False”,” True”]"
   ]
  },
  {
   "cell_type": "code",
   "execution_count": 58,
   "id": "1d400700",
   "metadata": {},
   "outputs": [
    {
     "name": "stdout",
     "output_type": "stream",
     "text": [
      "['False', 'True', 'False', 'False', 'True']\n"
     ]
    }
   ],
   "source": [
    "a='01001'\n",
    "b=[]\n",
    "for i in a:\n",
    "    if i=='0':\n",
    "        b.append('False')\n",
    "    else:\n",
    "        b.append('True')\n",
    "print(b)\n",
    "        "
   ]
  },
  {
   "cell_type": "raw",
   "id": "130286ea",
   "metadata": {},
   "source": [
    "5.Input: “my name is ame”\n",
    "Output: {“m”:3,” y”:1,” n”:1,” a”:2,” e”:2,” i”:1,” s”:1}"
   ]
  },
  {
   "cell_type": "code",
   "execution_count": 81,
   "id": "77714492",
   "metadata": {},
   "outputs": [
    {
     "name": "stdout",
     "output_type": "stream",
     "text": [
      "{'m': 3, 'y': 1, 'n': 1, 'a': 2, 'e': 2, 'i': 1, 's': 1}\n"
     ]
    }
   ],
   "source": [
    "a=\"my name is ame\"\n",
    "b=list(a)\n",
    "d={}\n",
    "b.remove(' ')\n",
    "b.remove(' ')\n",
    "b.remove(' ')\n",
    "for i in b:\n",
    "    c={i:b.count(i)}\n",
    "    d.update(c)\n",
    "print(d)"
   ]
  },
  {
   "cell_type": "raw",
   "id": "d208ba29",
   "metadata": {},
   "source": [
    "6.Given a dictionary containing the names and ages of a group of people, return the \n",
    "name of the oldest person\n",
    "Ex:\n",
    "Input: {\"Tmma\": 41, \"Ackes\": 45, \"myna\": 15, \"Benthon\": 29}\n",
    "Output: “Ackes”\n"
   ]
  },
  {
   "cell_type": "code",
   "execution_count": 82,
   "id": "2cd7cdd3",
   "metadata": {},
   "outputs": [],
   "source": [
    "a={\"Tmma\": 41, \"Ackes\": 45, \"myna\": 15, \"Benthon\": 29}\n"
   ]
  },
  {
   "cell_type": "code",
   "execution_count": 84,
   "id": "9d7f606a",
   "metadata": {},
   "outputs": [
    {
     "data": {
      "text/plain": [
       "'Ackes'"
      ]
     },
     "execution_count": 84,
     "metadata": {},
     "output_type": "execute_result"
    }
   ],
   "source": [
    "#b=a.values()\n",
    "#c=a.keys()\n",
    "def person(x):\n",
    "    for i in a:\n",
    "        if a[i]==x:\n",
    "            return i\n",
    "person(45)        "
   ]
  },
  {
   "cell_type": "raw",
   "id": "b8a316b4",
   "metadata": {},
   "source": [
    "7.Write a Python program to create a Rock, Paper, Scissor game, use two inputs for two \n",
    "players:\n",
    "Conditions: -Rock beats Scissors, Scissors beats Paper, Paper beats Rock"
   ]
  },
  {
   "cell_type": "raw",
   "id": "a8facc46",
   "metadata": {},
   "source": [
    "8.Create a program that returns a list of items that you can afford in the store with the \n",
    "money you have in your wallet. Create a dictionary with items as key and price as \n",
    "values\n",
    "Ex:\n",
    "Input: \n",
    "{“water bottles”: “20”,” chips”:10,” Iphone”;49000“,” towel”:90,” pens”:58,” cake”;400}\n",
    "Your wallet balance: -50\n",
    "Output: [“water bottles”, “chips”]"
   ]
  },
  {
   "cell_type": "code",
   "execution_count": 101,
   "id": "3bcb435b",
   "metadata": {},
   "outputs": [
    {
     "name": "stdout",
     "output_type": "stream",
     "text": [
      "['water bottles', 'chips']\n"
     ]
    }
   ],
   "source": [
    "items={'water bottles': 20,'chips':10,'Iphone':49000,'towel':90,'pens':58,'cake':400}\n",
    "#money=50\n",
    "a=items.keys()\n",
    "b=items.values()\n",
    "l=[]\n",
    "\n",
    "for i in items:\n",
    "    money=50\n",
    "    if items[i]<money:\n",
    "        l.append(i)\n",
    "    money-=j\n",
    "print(l)"
   ]
  },
  {
   "cell_type": "raw",
   "id": "a3ee0941",
   "metadata": {},
   "source": [
    "9.Write a Python program to create a union of sets"
   ]
  },
  {
   "cell_type": "code",
   "execution_count": 121,
   "id": "1ed114af",
   "metadata": {},
   "outputs": [
    {
     "name": "stdout",
     "output_type": "stream",
     "text": [
      "{65, 1, 2, 3, 34, 43, 45, 54, 23}\n"
     ]
    }
   ],
   "source": [
    "s1={1,2,3,23,45,34,65}\n",
    "s2={34,2,3,1,23,43,54}\n",
    "print(s1|s2)"
   ]
  },
  {
   "cell_type": "raw",
   "id": "8b7b93b2",
   "metadata": {},
   "source": [
    "10.Write a Python program to check if a given value is present in a set or not"
   ]
  },
  {
   "cell_type": "code",
   "execution_count": 123,
   "id": "00ea29d3",
   "metadata": {},
   "outputs": [
    {
     "name": "stdout",
     "output_type": "stream",
     "text": [
      "enter any number:607\n",
      "the number 607 is not present in set s\n"
     ]
    }
   ],
   "source": [
    "s={1,2,32,54,43,23,56,78,98,0,7,8}\n",
    "n=int(input('enter any number:'))\n",
    "if n in s:\n",
    "    print('the number',n,'is present in set s')\n",
    "else:\n",
    "    print('the number',n,'is not present in set s')"
   ]
  },
  {
   "cell_type": "raw",
   "id": "1d14e67f",
   "metadata": {},
   "source": [
    "11.Write a Python program to find the occurrences of 3 most common words in a \n",
    "given text. And make it as a dictionaries\n",
    "Ex:\n",
    "Input:\n",
    "” Cat dog dog cat horse dog dog mouse horse dog mouse tiger lion tiger \n",
    "cat mouse snail”\n",
    "Output: (“dog”:5,”cat”:3,” mouse”;3)"
   ]
  },
  {
   "cell_type": "code",
   "execution_count": 116,
   "id": "1f62dcf7",
   "metadata": {},
   "outputs": [
    {
     "name": "stdout",
     "output_type": "stream",
     "text": [
      "{'cat': 3, 'dog': 5, 'mouse': 3}\n"
     ]
    }
   ],
   "source": [
    "a=\"Cat dog dog cat horse dog dog mouse horse dog mouse tiger lion tiger cat mouse snail\"\n",
    "b=(a.lower()).split()\n",
    "c={}\n",
    "for i in b:\n",
    "    if b.count(i)>2:\n",
    "        c.update({i:b.count(i)})\n",
    "print(c)\n",
    "\n"
   ]
  },
  {
   "cell_type": "raw",
   "id": "d84edb7e",
   "metadata": {},
   "source": [
    "12.Write a Python program that accepts name of given subject and mark, and \n",
    "make subjects as keys in dictionaries and marks as values and print the final\n",
    "dictionary with subjects and marks"
   ]
  },
  {
   "cell_type": "code",
   "execution_count": 118,
   "id": "ebcbd2a0",
   "metadata": {},
   "outputs": [
    {
     "name": "stdout",
     "output_type": "stream",
     "text": [
      "{'maths': 24, 'python': 24, 'java': 24, 'stats': 24}\n"
     ]
    }
   ],
   "source": [
    "name_sub=['maths','python','java','stats']\n",
    "marks=[70,46,57,24]\n",
    "d={}\n",
    "for i in name_sub:\n",
    "    for j in marks:\n",
    "        d.update({i:j})\n",
    "print(d)       \n",
    "        "
   ]
  },
  {
   "cell_type": "code",
   "execution_count": null,
   "id": "278d4e38",
   "metadata": {},
   "outputs": [],
   "source": []
  },
  {
   "cell_type": "code",
   "execution_count": null,
   "id": "1d0a14d7",
   "metadata": {},
   "outputs": [],
   "source": []
  }
 ],
 "metadata": {
  "kernelspec": {
   "display_name": "Python 3 (ipykernel)",
   "language": "python",
   "name": "python3"
  },
  "language_info": {
   "codemirror_mode": {
    "name": "ipython",
    "version": 3
   },
   "file_extension": ".py",
   "mimetype": "text/x-python",
   "name": "python",
   "nbconvert_exporter": "python",
   "pygments_lexer": "ipython3",
   "version": "3.9.12"
  }
 },
 "nbformat": 4,
 "nbformat_minor": 5
}
